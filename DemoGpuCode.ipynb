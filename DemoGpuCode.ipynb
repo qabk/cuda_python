{
 "cells": [
  {
   "cell_type": "code",
   "execution_count": 1,
   "metadata": {},
   "outputs": [],
   "source": [
    "from __future__ import division\n",
    "import numpy as np\n",
    "import matplotlib.pyplot as plt\n",
    "import math\n",
    "import numba\n",
    "from numba import cuda\n",
    "import cv2"
   ]
  },
  {
   "cell_type": "markdown",
   "metadata": {},
   "source": [
    "# Tạo code cho phép chập"
   ]
  },
  {
   "cell_type": "code",
   "execution_count": 2,
   "metadata": {},
   "outputs": [],
   "source": [
    "@cuda.jit\n",
    "def corrolation(Input, fil, Output):\n",
    "    row, col = cuda.grid(2)\n",
    "    rn = math.floor(fil.shape[0]/2)\n",
    "    if (rn < row < Output.shape[0]-rn) and  (rn < col < Output.shape[1]-rn):\n",
    "        tmp = 0.\n",
    "        for i in range(-rn,rn+1):\n",
    "            for j in range(-rn,rn+1):\n",
    "                if Output.shape[0] > row+i >= 0 and Output.shape[1] > col+j >= 0 :\n",
    "                    tmp += Input[row+i,col+j]*fil[i,j]\n",
    "                \n",
    "                    \n",
    "        Output[row,col] = tmp\n",
    "    else:\n",
    "        Output[row,col] = Input[row,col]\n",
    "        "
   ]
  },
  {
   "cell_type": "code",
   "execution_count": 3,
   "metadata": {},
   "outputs": [],
   "source": [
    "A = cv2.imread(r\"images/Median.jpg\",cv2.IMREAD_GRAYSCALE)\n",
    "B = np.zeros_like(A)\n",
    "fil = np.ones((5,5))/25\n",
    "fil_global_mem = cuda.to_device(fil)\n",
    "A_global_mem = cuda.to_device(A)\n",
    "B_global_mem = cuda.device_array(B.shape)\n",
    "threadsperblock = (32, 32)\n",
    "blockspergrid_x = int(math.ceil(A.shape[0] / threadsperblock[0]))\n",
    "blockspergrid_y = int(math.ceil(A.shape[1] / threadsperblock[1]))\n",
    "blockspergrid = (blockspergrid_x, blockspergrid_y)\n",
    "corrolation[blockspergrid, threadsperblock](A_global_mem,fil_global_mem,B_global_mem)\n",
    "B = B_global_mem.copy_to_host()\n"
   ]
  },
  {
   "cell_type": "code",
   "execution_count": 4,
   "metadata": {},
   "outputs": [
    {
     "data": {
      "text/plain": [
       "array([[255, 255, 255, ..., 255, 255, 255],\n",
       "       [255, 255, 255, ..., 255, 255, 255],\n",
       "       [255, 255, 255, ..., 255, 255, 255],\n",
       "       ...,\n",
       "       [255, 255, 255, ..., 255, 255, 255],\n",
       "       [255, 255, 255, ..., 255, 255, 255],\n",
       "       [255, 255, 255, ..., 255, 255, 255]], dtype=uint8)"
      ]
     },
     "execution_count": 4,
     "metadata": {},
     "output_type": "execute_result"
    }
   ],
   "source": [
    "A"
   ]
  },
  {
   "cell_type": "code",
   "execution_count": 5,
   "metadata": {},
   "outputs": [
    {
     "data": {
      "text/plain": [
       "array([[255., 255., 255., ..., 255., 255., 255.],\n",
       "       [255., 255., 255., ..., 255., 255., 255.],\n",
       "       [255., 255., 255., ..., 255., 255., 255.],\n",
       "       ...,\n",
       "       [255., 255., 255., ..., 255., 255., 255.],\n",
       "       [255., 255., 255., ..., 255., 255., 255.],\n",
       "       [255., 255., 255., ..., 255., 255., 255.]])"
      ]
     },
     "execution_count": 5,
     "metadata": {},
     "output_type": "execute_result"
    }
   ],
   "source": [
    "B"
   ]
  },
  {
   "cell_type": "markdown",
   "metadata": {},
   "source": [
    "# Tạo code cho bộ lọc Trung vị"
   ]
  },
  {
   "cell_type": "code",
   "execution_count": 6,
   "metadata": {},
   "outputs": [],
   "source": [
    "fil_size = 5\n",
    "fil_size_flat = 25\n",
    "rn = 2\n",
    "med = 13\n",
    "@cuda.jit\n",
    "def median_filter(Input, Output):\n",
    "   \n",
    "    row, col = cuda.grid(2)\n",
    "    windows = cuda.local.array(fil_size_flat, numba.int32)\n",
    "    if (0 < row < Output.shape[0]-1) and  (0 < col < Output.shape[1]-1):\n",
    "        index = 0\n",
    "        for i in range(row-rn, row+rn+1):\n",
    "            for j in range(col-rn, col+rn+1):\n",
    "                if i >= 0 and j >= 0 and i < Output.shape[0] and j < Output.shape[1]:\n",
    "                    windows[index] = Input[i, j]\n",
    "                else:\n",
    "                    windows[index] = 0\n",
    "                index += 1\n",
    "        for i in range(fil_size_flat-1):\n",
    "            min_idx = i\n",
    "            for j in range(1, fil_size_flat):\n",
    "                if windows[min_idx] > windows[j]:\n",
    "                    min_idx = j\n",
    "                    windows[j], windows[min_idx] = windows[min_idx] , windows[j]           \n",
    "        Output[row,col] = windows[med]\n",
    "    "
   ]
  },
  {
   "cell_type": "code",
   "execution_count": 7,
   "metadata": {},
   "outputs": [],
   "source": [
    "import numpy as np\n",
    "import cv2\n",
    "import time\n",
    "A = cv2.imread(r\"C:\\Users\\Admin\\Lena.png\",cv2.IMREAD_GRAYSCALE)\n",
    "A = cv2.resize(A,(5000,5000))\n",
    "B = np.zeros_like(A)\n",
    "A_global_mem = cuda.to_device(A)\n",
    "B_global_mem = cuda.device_array(B.shape)\n",
    "threadsperblock = (32, 32)\n",
    "blockspergrid_x = int(math.ceil(A.shape[0] / threadsperblock[0]))\n",
    "blockspergrid_y = int(math.ceil(A.shape[1] / threadsperblock[1]))\n",
    "blockspergrid = (blockspergrid_x, blockspergrid_y)\n",
    "arr_gpu = []\n",
    "arr_cpu = []\n",
    "\n",
    "arr_gpu = []\n",
    "arr_cpu = []\n",
    "\n",
    "for i in range(30):\n",
    "        start = time.time()\n",
    "        median_filter[blockspergrid, threadsperblock](A_global_mem, B_global_mem)\n",
    "        #B = B_global_mem.copy_to_host()\n",
    "        arr_gpu.append(time.time()-start)\n",
    "        start = time.time()\n",
    "        res = cv2.medianBlur(A,5)\n",
    "        arr_cpu.append(time.time()-start)\n",
    "\n"
   ]
  },
  {
   "cell_type": "code",
   "execution_count": 8,
   "metadata": {},
   "outputs": [
    {
     "data": {
      "text/plain": [
       "[<matplotlib.lines.Line2D at 0x1ec4978af28>]"
      ]
     },
     "execution_count": 8,
     "metadata": {},
     "output_type": "execute_result"
    },
    {
     "data": {
      "image/png": "[encoded data removed]",
      "text/plain": [
       "<Figure size 432x288 with 1 Axes>"
      ]
     },
     "metadata": {
      "needs_background": "light"
     },
     "output_type": "display_data"
    }
   ],
   "source": [
    "plt.plot(arr_cpu,'b')\n",
    "plt.plot(arr_gpu,'r')"
   ]
  }
 ],
 "metadata": {
  "kernelspec": {
   "display_name": "Python 3 (ipykernel)",
   "language": "python",
   "name": "python3"
  },
  "language_info": {
   "codemirror_mode": {
    "name": "ipython",
    "version": 3
   },
   "file_extension": ".py",
   "mimetype": "text/x-python",
   "name": "python",
   "nbconvert_exporter": "python",
   "pygments_lexer": "ipython3",
   "version": "3.7.0"
  }
 },
 "nbformat": 4,
 "nbformat_minor": 4
}
